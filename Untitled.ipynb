{
 "cells": [
  {
   "cell_type": "code",
   "execution_count": 1,
   "id": "e38edb51-1152-4efb-af25-c468f9286465",
   "metadata": {},
   "outputs": [
    {
     "ename": "ImportError",
     "evalue": "cannot import name 'GoogleSearch' from 'serpapi' (C:\\Users\\tranb\\anaconda3\\Lib\\site-packages\\serpapi\\__init__.py)",
     "output_type": "error",
     "traceback": [
      "\u001b[1;31m---------------------------------------------------------------------------\u001b[0m",
      "\u001b[1;31mImportError\u001b[0m                               Traceback (most recent call last)",
      "Cell \u001b[1;32mIn[1], line 3\u001b[0m\n\u001b[0;32m      1\u001b[0m \u001b[38;5;28;01mimport\u001b[39;00m \u001b[38;5;21;01mos\u001b[39;00m\n\u001b[0;32m      2\u001b[0m \u001b[38;5;28;01mimport\u001b[39;00m \u001b[38;5;21;01mrequests\u001b[39;00m\n\u001b[1;32m----> 3\u001b[0m \u001b[38;5;28;01mfrom\u001b[39;00m \u001b[38;5;21;01mserpapi\u001b[39;00m \u001b[38;5;28;01mimport\u001b[39;00m GoogleSearch\n\u001b[0;32m      5\u001b[0m \u001b[38;5;66;03m# Hàm tải ảnh từ url\u001b[39;00m\n\u001b[0;32m      6\u001b[0m \u001b[38;5;28;01mdef\u001b[39;00m \u001b[38;5;21mdownload_image\u001b[39m(url, folder_name, img_name):\n",
      "\u001b[1;31mImportError\u001b[0m: cannot import name 'GoogleSearch' from 'serpapi' (C:\\Users\\tranb\\anaconda3\\Lib\\site-packages\\serpapi\\__init__.py)"
     ]
    }
   ],
   "source": [
    "import os\n",
    "import requests\n",
    "from serpapi import GoogleSearch\n",
    "\n",
    "# Hàm tải ảnh từ url\n",
    "def download_image(url, folder_name, img_name):\n",
    "    img_data = requests.get(url).content\n",
    "    with open(os.path.join(folder_name, img_name), 'wb') as handler:\n",
    "        handler.write(img_data)\n",
    "\n",
    "# Thiết lập API key từ SerpAPI\n",
    "API_KEY = 'your_serpapi_key'  # Thay bằng API key của bạn\n",
    "search_queries = [\n",
    "    \"Goldfish fish\", \"Betta fish\", \"Discus fish\", \"Neon fish\",\n",
    "    \"Guppy fish\", \"Koi fish\", \"Oscar fish\", \"Flowerhorn fish\",\n",
    "    \"Platy fish\", \"Corydoras fish\"\n",
    "]\n",
    "\n",
    "# Thư mục lưu ảnh\n",
    "folder_name = \"fish_images\"\n",
    "if not os.path.exists(folder_name):\n",
    "    os.makedirs(folder_name)\n",
    "\n",
    "# Tìm kiếm và tải hình ảnh\n",
    "for query in search_queries:\n",
    "    params = {\n",
    "        \"q\": query,\n",
    "        \"tbm\": \"isch\",  # image search\n",
    "        \"api_key\": API_KEY\n",
    "    }\n",
    "\n",
    "    search = GoogleSearch(params)\n",
    "    results = search.get_dict()\n",
    "    images = results['images_results']\n",
    "\n",
    "    # Lưu 5 hình ảnh đầu tiên cho mỗi loại cá\n",
    "    for index, image in enumerate(images[:5]):\n",
    "        img_url = image['original']\n",
    "        img_name = f\"{query.replace(' ', '_')}_{index + 1}.jpg\"\n",
    "        download_image(img_url, folder_name, img_name)\n",
    "        print(f\"Downloaded {img_name} from {img_url}\")\n"
   ]
  },
  {
   "cell_type": "code",
   "execution_count": null,
   "id": "b751f0ba-1a69-4959-9dd6-6430857e5a6b",
   "metadata": {},
   "outputs": [],
   "source": []
  }
 ],
 "metadata": {
  "kernelspec": {
   "display_name": "Python 3 (ipykernel)",
   "language": "python",
   "name": "python3"
  },
  "language_info": {
   "codemirror_mode": {
    "name": "ipython",
    "version": 3
   },
   "file_extension": ".py",
   "mimetype": "text/x-python",
   "name": "python",
   "nbconvert_exporter": "python",
   "pygments_lexer": "ipython3",
   "version": "3.12.4"
  }
 },
 "nbformat": 4,
 "nbformat_minor": 5
}
